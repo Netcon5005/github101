{
  "nbformat": 4,
  "nbformat_minor": 0,
  "metadata": {
    "colab": {
      "provenance": [],
      "mount_file_id": "1RQ3tu86DIUueQGaBCseRwX8BUUVYM5y4",
      "authorship_tag": "ABX9TyPap6TEoAV8VFPq6Two59he",
      "include_colab_link": true
    },
    "kernelspec": {
      "name": "python3",
      "display_name": "Python 3"
    },
    "language_info": {
      "name": "python"
    }
  },
  "cells": [
    {
      "cell_type": "markdown",
      "metadata": {
        "id": "view-in-github",
        "colab_type": "text"
      },
      "source": [
        "<a href=\"https://colab.research.google.com/github/Netcon5005/github101/blob/main/splitter.ipynb\" target=\"_parent\"><img src=\"https://colab.research.google.com/assets/colab-badge.svg\" alt=\"Open In Colab\"/></a>"
      ]
    },
    {
      "cell_type": "markdown",
      "source": [
        "#Initialize"
      ],
      "metadata": {
        "id": "o9DBHZsnJY7C"
      }
    },
    {
      "cell_type": "markdown",
      "source": [
        "Load Requirements"
      ],
      "metadata": {
        "id": "vKc7WLTh3D5I"
      }
    },
    {
      "cell_type": "code",
      "source": [
        "!pip install -r /content/drive/MyDrive/requirements.txt"
      ],
      "metadata": {
        "id": "OgPV67acxNs3"
      },
      "execution_count": null,
      "outputs": []
    },
    {
      "cell_type": "code",
      "source": [
        "!apt-get install -y poppler-utils"
      ],
      "metadata": {
        "id": "r4iiDRD22ciZ"
      },
      "execution_count": null,
      "outputs": []
    },
    {
      "cell_type": "code",
      "source": [
        "!apt-get install -y tesseract-ocr"
      ],
      "metadata": {
        "id": "34_IO0YbvLlo"
      },
      "execution_count": null,
      "outputs": []
    },
    {
      "cell_type": "markdown",
      "source": [
        "Import Modules"
      ],
      "metadata": {
        "id": "ZQ8vG_is2o7L"
      }
    },
    {
      "cell_type": "code",
      "execution_count": null,
      "metadata": {
        "id": "k0BBr5-nYW5w"
      },
      "outputs": [],
      "source": [
        "import fitz  # PyMuPDF\n",
        "import pytesseract\n",
        "from pdf2image import convert_from_path\n",
        "import os\n",
        "from collections import defaultdict\n",
        "from pathlib import Path\n",
        "from pytesseract import TesseractError\n",
        "\n",
        "poppler_path='/usr/bin/'"
      ]
    },
    {
      "cell_type": "code",
      "source": [],
      "metadata": {
        "id": "lWiYB22fUf_p"
      },
      "execution_count": null,
      "outputs": []
    },
    {
      "cell_type": "markdown",
      "source": [
        "# Functions"
      ],
      "metadata": {
        "id": "js9t-WmUnREC"
      }
    },
    {
      "cell_type": "markdown",
      "source": [
        "Extract Text From PDF"
      ],
      "metadata": {
        "id": "OX-yKdx8bLdC"
      }
    },
    {
      "cell_type": "code",
      "source": [
        "def extract_text_from_pdf(pdf_path):\n",
        "    \"\"\"Extract text from each page of the PDF using OCR.\"\"\"\n",
        "    pages = convert_from_path(pdf_path, dpi=150, poppler_path=poppler_path)  # Convert PDF to images\n",
        "    extracted_texts = []\n",
        "\n",
        "    for i, page in enumerate(pages):\n",
        "        try:\n",
        "            text = pytesseract.image_to_string(page, timeout=15)  # 15s timeout\n",
        "            extracted_texts.append(text)\n",
        "            print(extracted_texts)\n",
        "        except TesseractError as e:\n",
        "            print(f\"[ERROR] OCR failed on page {i}: {e}\")\n",
        "            extracted_texts.append(\"\")  # Avoid breaking classification\n",
        "\n",
        "    return extracted_texts"
      ],
      "metadata": {
        "id": "27PnWhj5bQMx"
      },
      "execution_count": null,
      "outputs": []
    },
    {
      "cell_type": "markdown",
      "source": [
        "Classify Document"
      ],
      "metadata": {
        "id": "7jka-YTviM-Q"
      }
    },
    {
      "cell_type": "code",
      "source": [
        "def classify_document(text):\n",
        "    \"\"\"Classify document type based on extracted text.\"\"\"\n",
        "    id_keywords = [\"driver's license\", \"passport\", \"ID card\",\"driver license\",\"demographics\",\"employer\"]\n",
        "    invoice_keywords = [\"invoice\", \"bill to\", \"total amount\",\"claim form\",\"charges\"]\n",
        "    medical_keywords = [\"diagnosis\", \"medical report\", \"medical history\",\"allergies\",\"office visit\",\"patient chart\"]\n",
        "    lien_keywords =  [\"lien\"]\n",
        "\n",
        "    text_lower = text.lower()\n",
        "    if any(keyword in text_lower for keyword in invoice_keywords):\n",
        "        return \"Invoice\"\n",
        "    elif any(keyword in text_lower for keyword in lien_keywords):\n",
        "        return \"Lien\"\n",
        "    elif any(keyword in text_lower for keyword in id_keywords):\n",
        "        return \"Identification\"\n",
        "    elif any(keyword in text_lower for keyword in medical_keywords):\n",
        "        return \"Medical_Report\"\n",
        "    else:\n",
        "        return \"Uncategorized\""
      ],
      "metadata": {
        "id": "rn1wSUGTiLaN"
      },
      "execution_count": null,
      "outputs": []
    },
    {
      "cell_type": "markdown",
      "source": [
        "Split & Save"
      ],
      "metadata": {
        "id": "msBrfp8wiVgs"
      }
    },
    {
      "source": [
        "def split_and_save_pdf(pdf_path, output_folder):\n",
        "    \"\"\"Split and save PDF pages into separate files based on classification.\"\"\"\n",
        "    doc = fitz.open(pdf_path)\n",
        "    text_pages = extract_text_from_pdf(pdf_path)\n",
        "    classified_pages = defaultdict(list)\n",
        "\n",
        "    # Classify each page\n",
        "    for i, text in enumerate(text_pages):\n",
        "        doc_type = classify_document(text)\n",
        "        classified_pages[doc_type].append(i)\n",
        "\n",
        "    # Ensure output directory exists\n",
        "    os.makedirs(output_folder, exist_ok=True)\n",
        "\n",
        "    # Create separate PDFs\n",
        "    for category, pages in classified_pages.items():\n",
        "        if not pages:\n",
        "            continue  # Skip if no pages for this category\n",
        "\n",
        "        new_pdf = fitz.open()\n",
        "        for page_num in pages:\n",
        "            try:\n",
        "                new_pdf.insert_pdf(doc, from_page=page_num, to_page=page_num)\n",
        "            except Exception as e:\n",
        "                print(f\"[ERROR] Failed to insert page {page_num}: {e}\") # Keep error messages\n",
        "\n",
        "        output_filename = os.path.join(output_folder, f\"{category}.pdf\")\n",
        "        if new_pdf.page_count > 0:\n",
        "            new_pdf.save(output_filename)\n",
        "\n",
        "        new_pdf.close()"
      ],
      "cell_type": "code",
      "metadata": {
        "id": "HW7FjkZGk1Hv"
      },
      "execution_count": null,
      "outputs": []
    },
    {
      "cell_type": "markdown",
      "source": [
        "#Execute"
      ],
      "metadata": {
        "id": "zEVjr8Z6nkC6"
      }
    },
    {
      "cell_type": "code",
      "source": [
        "pdf_path = '/content/drive/MyDrive/sample_data/driverlicenses.pdf'\n",
        "output_folder = '/content/drive/MyDrive/output_data'\n",
        "\n",
        "#pdf_path = './sample_data/Identification.pdf'\n",
        "#output_folder = './sample_data/'\n",
        "split_and_save_pdf(pdf_path, output_folder)"
      ],
      "metadata": {
        "id": "MpddUpa9bhOQ"
      },
      "execution_count": null,
      "outputs": []
    }
  ]
}