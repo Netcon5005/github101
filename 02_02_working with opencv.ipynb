{
  "cells": [
    {
      "cell_type": "markdown",
      "metadata": {
        "id": "xXr5cFAc9uS6"
      },
      "source": [
        "# Preprocessing Images for OCR"
      ]
    },
    {
      "cell_type": "markdown",
      "metadata": {
        "id": "8eSdOzPj9uS6"
      },
      "source": [
        "## Covered in this Video"
      ]
    },
    {
      "cell_type": "markdown",
      "metadata": {
        "id": "R4hp_ycm9uS7"
      },
      "source": [
        "1. Inverted Images\n",
        "2. Rescaling\n",
        "3. Binarization\n",
        "4. Noise Removal\n",
        "5. Dilation and Erosion\n",
        "6. Rotation / Deskewing\n",
        "7. Removing Borders\n",
        "8. Missing Borders\n",
        "9. Transparency / Alpha Channel"
      ]
    },
    {
      "cell_type": "markdown",
      "metadata": {
        "id": "KDP1bdYy9uS7"
      },
      "source": [
        "## 00: Opening an Image"
      ]
    },
    {
      "cell_type": "code",
      "execution_count": null,
      "metadata": {
        "id": "giJ7in0K9uS7"
      },
      "outputs": [],
      "source": [
        "import cv2\n",
        "from matplotlib import pyplot as plt\n",
        "image_file = \"data/page_01.jpg\"\n",
        "img = cv2.imread(image_file)\n"
      ]
    },
    {
      "cell_type": "code",
      "execution_count": null,
      "metadata": {
        "id": "LXE4V6_39uS7"
      },
      "outputs": [],
      "source": [
        "#https://stackoverflow.com/questions/28816046/\n",
        "#displaying-different-images-with-actual-size-in-matplotlib-subplot\n",
        "def display(im_path):\n",
        "    dpi = 80\n",
        "    im_data = plt.imread(im_path)\n",
        "\n",
        "    height, width  = im_data.shape[:2]\n",
        "\n",
        "    # What size does the figure need to be in inches to fit the image?\n",
        "    figsize = width / float(dpi), height / float(dpi)\n",
        "\n",
        "    # Create a figure of the right size with one axes that takes up the full figure\n",
        "    fig = plt.figure(figsize=figsize)\n",
        "    ax = fig.add_axes([0, 0, 1, 1])\n",
        "\n",
        "    # Hide spines, ticks, etc.\n",
        "    ax.axis('off')\n",
        "\n",
        "    # Display the image.\n",
        "    ax.imshow(im_data, cmap='gray')\n",
        "\n",
        "    plt.show()"
      ]
    },
    {
      "cell_type": "code",
      "execution_count": null,
      "metadata": {
        "id": "VyiMh9L49uS7"
      },
      "outputs": [],
      "source": [
        "display(image_file)"
      ]
    },
    {
      "cell_type": "markdown",
      "metadata": {
        "id": "slhXfWXv9uS8"
      },
      "source": [
        "## 01: Inverted Images"
      ]
    },
    {
      "cell_type": "code",
      "execution_count": null,
      "metadata": {
        "id": "kMw6a-2P9uS8"
      },
      "outputs": [],
      "source": [
        "inverted_image = cv2.bitwise_not(img)\n",
        "cv2.imwrite(\"temp/inverted.jpg\", inverted_image)"
      ]
    },
    {
      "cell_type": "code",
      "execution_count": null,
      "metadata": {
        "id": "8s0YIC4c9uS8"
      },
      "outputs": [],
      "source": [
        "display(\"temp/inverted.jpg\")"
      ]
    },
    {
      "cell_type": "markdown",
      "metadata": {
        "id": "r5jPy0-Q9uS8"
      },
      "source": [
        "## 03: Binarization"
      ]
    },
    {
      "cell_type": "code",
      "execution_count": null,
      "metadata": {
        "id": "hOBjlZ-E9uS8"
      },
      "outputs": [],
      "source": [
        "def grayscale(image):\n",
        "    return cv2.cvtColor(image, cv2.COLOR_BGR2GRAY)\n"
      ]
    },
    {
      "cell_type": "code",
      "execution_count": null,
      "metadata": {
        "id": "jpHEguso9uS8"
      },
      "outputs": [],
      "source": [
        "gray_image = grayscale(img)\n",
        "cv2.imwrite(\"temp/gray.jpg\", gray_image)"
      ]
    },
    {
      "cell_type": "code",
      "execution_count": null,
      "metadata": {
        "id": "hC38iucq9uS9"
      },
      "outputs": [],
      "source": [
        "display(\"temp/gray.jpg\")"
      ]
    },
    {
      "cell_type": "code",
      "execution_count": null,
      "metadata": {
        "id": "IhT7hIze9uS9"
      },
      "outputs": [],
      "source": [
        "thresh, im_bw = cv2.threshold(gray_image, 210, 230, cv2.THRESH_BINARY)\n",
        "cv2.imwrite(\"temp/bw_image.jpg\", im_bw)"
      ]
    },
    {
      "cell_type": "code",
      "execution_count": null,
      "metadata": {
        "id": "s2KfndZP9uS9"
      },
      "outputs": [],
      "source": [
        "display(\"temp/bw_image.jpg\")"
      ]
    },
    {
      "cell_type": "markdown",
      "metadata": {
        "id": "11Vo2XFT9uS9"
      },
      "source": [
        "## 04: Noise Removal"
      ]
    },
    {
      "cell_type": "code",
      "execution_count": null,
      "metadata": {
        "id": "nQlu0LSp9uS9"
      },
      "outputs": [],
      "source": [
        "def noise_removal(image):\n",
        "    import numpy as np\n",
        "    kernel = np.ones((1, 1), np.uint8)\n",
        "    image = cv2.dilate(image, kernel, iterations=1)\n",
        "    kernel = np.ones((1, 1), np.uint8)\n",
        "    image = cv2.erode(image, kernel, iterations=1)\n",
        "    image = cv2.morphologyEx(image, cv2.MORPH_CLOSE, kernel)\n",
        "    image = cv2.medianBlur(image, 3)\n",
        "    return (image)"
      ]
    },
    {
      "cell_type": "code",
      "execution_count": null,
      "metadata": {
        "id": "phvqlht_9uS9"
      },
      "outputs": [],
      "source": [
        "no_noise = noise_removal(im_bw)\n",
        "cv2.imwrite(\"temp/no_noise.jpg\", no_noise)"
      ]
    },
    {
      "cell_type": "code",
      "execution_count": null,
      "metadata": {
        "id": "EzRZ79Hl9uS9"
      },
      "outputs": [],
      "source": [
        "display(\"temp/no_noise.jpg\")"
      ]
    },
    {
      "cell_type": "markdown",
      "metadata": {
        "id": "2pKEwjMK9uS-"
      },
      "source": [
        "## 06: Rotation / Deskewing"
      ]
    },
    {
      "cell_type": "code",
      "execution_count": null,
      "metadata": {
        "id": "T9J22Ws59uS-"
      },
      "outputs": [],
      "source": [
        "new = cv2.imread(\"data/page_01_rotated.JPG\")\n",
        "display(\"data/page_01_rotated.JPG\")"
      ]
    },
    {
      "cell_type": "code",
      "execution_count": null,
      "metadata": {
        "id": "jnH4AAbe9uS-"
      },
      "outputs": [],
      "source": [
        "#https://becominghuman.ai/how-to-automatically-deskew-straighten-a-text-image-using-opencv-a0c30aed83df\n",
        "import numpy as np\n",
        "\n",
        "def getSkewAngle(cvImage) -> float:\n",
        "    # Prep image, copy, convert to gray scale, blur, and threshold\n",
        "    newImage = cvImage.copy()\n",
        "    gray = cv2.cvtColor(newImage, cv2.COLOR_BGR2GRAY)\n",
        "    blur = cv2.GaussianBlur(gray, (9, 9), 0)\n",
        "    thresh = cv2.threshold(blur, 0, 255, cv2.THRESH_BINARY_INV + cv2.THRESH_OTSU)[1]\n",
        "\n",
        "    # Apply dilate to merge text into meaningful lines/paragraphs.\n",
        "    # Use larger kernel on X axis to merge characters into single line, cancelling out any spaces.\n",
        "    # But use smaller kernel on Y axis to separate between different blocks of text\n",
        "    kernel = cv2.getStructuringElement(cv2.MORPH_RECT, (30, 5))\n",
        "    dilate = cv2.dilate(thresh, kernel, iterations=2)\n",
        "\n",
        "    # Find all contours\n",
        "    contours, hierarchy = cv2.findContours(dilate, cv2.RETR_LIST, cv2.CHAIN_APPROX_SIMPLE)\n",
        "    contours = sorted(contours, key = cv2.contourArea, reverse = True)\n",
        "    for c in contours:\n",
        "        rect = cv2.boundingRect(c)\n",
        "        x,y,w,h = rect\n",
        "        cv2.rectangle(newImage,(x,y),(x+w,y+h),(0,255,0),2)\n",
        "\n",
        "    # Find largest contour and surround in min area box\n",
        "    largestContour = contours[0]\n",
        "    print (len(contours))\n",
        "    minAreaRect = cv2.minAreaRect(largestContour)\n",
        "    cv2.imwrite(\"temp/boxes.jpg\", newImage)\n",
        "    # Determine the angle. Convert it to the value that was originally used to obtain skewed image\n",
        "    angle = minAreaRect[-1]\n",
        "    if angle < -45:\n",
        "        angle = 90 + angle\n",
        "    return -1.0 * angle\n",
        "# Rotate the image around its center\n",
        "def rotateImage(cvImage, angle: float):\n",
        "    newImage = cvImage.copy()\n",
        "    (h, w) = newImage.shape[:2]\n",
        "    center = (w // 2, h // 2)\n",
        "    M = cv2.getRotationMatrix2D(center, angle, 1.0)\n",
        "    newImage = cv2.warpAffine(newImage, M, (w, h), flags=cv2.INTER_CUBIC, borderMode=cv2.BORDER_REPLICATE)\n",
        "    return newImage"
      ]
    },
    {
      "cell_type": "code",
      "execution_count": null,
      "metadata": {
        "id": "6ZchEIs99uS-"
      },
      "outputs": [],
      "source": [
        "# Deskew image\n",
        "def deskew(cvImage):\n",
        "    angle = getSkewAngle(cvImage)\n",
        "    return rotateImage(cvImage, -1.0 * angle)"
      ]
    },
    {
      "cell_type": "code",
      "execution_count": null,
      "metadata": {
        "id": "FXVBX9f_9uS-"
      },
      "outputs": [],
      "source": [
        "fixed = deskew(new)\n",
        "cv2.imwrite(\"temp/rotated_fixed.jpg\", fixed)"
      ]
    },
    {
      "cell_type": "code",
      "execution_count": null,
      "metadata": {
        "id": "qFn3Jo289uS-"
      },
      "outputs": [],
      "source": [
        "display(\"temp/rotated_fixed.jpg\")"
      ]
    },
    {
      "cell_type": "markdown",
      "metadata": {
        "id": "ySqOj5Gi9uS_"
      },
      "source": [
        "## 07: Removing Borders"
      ]
    },
    {
      "cell_type": "code",
      "execution_count": null,
      "metadata": {
        "id": "Y7GpoED59uS_"
      },
      "outputs": [],
      "source": [
        "display(\"temp/no_noise.jpg\")"
      ]
    },
    {
      "cell_type": "code",
      "execution_count": null,
      "metadata": {
        "id": "WFbAreN59uTC"
      },
      "outputs": [],
      "source": [
        "def remove_borders(image):\n",
        "    contours, heiarchy = cv2.findContours(image, cv2.RETR_EXTERNAL, cv2.CHAIN_APPROX_SIMPLE)\n",
        "    cntsSorted = sorted(contours, key=lambda x:cv2.contourArea(x))\n",
        "    cnt = cntsSorted[-1]\n",
        "    x, y, w, h = cv2.boundingRect(cnt)\n",
        "    crop = image[y:y+h, x:x+w]\n",
        "    return (crop)"
      ]
    },
    {
      "cell_type": "code",
      "execution_count": null,
      "metadata": {
        "id": "us4wklbV9uTC"
      },
      "outputs": [],
      "source": [
        "no_borders = remove_borders(no_noise)\n",
        "cv2.imwrite(\"temp/no_borders.jpg\", no_borders)\n",
        "display('temp/no_borders.jpg')"
      ]
    },
    {
      "cell_type": "code",
      "execution_count": null,
      "metadata": {
        "id": "z2DBVw_S9uTC"
      },
      "outputs": [],
      "source": []
    },
    {
      "cell_type": "code",
      "execution_count": null,
      "metadata": {
        "id": "Zy5yoluu9uTC"
      },
      "outputs": [],
      "source": []
    },
    {
      "cell_type": "markdown",
      "metadata": {
        "id": "XnghbMmp9uTC"
      },
      "source": [
        "## 08: Missing Borders"
      ]
    },
    {
      "cell_type": "code",
      "execution_count": null,
      "metadata": {
        "id": "rZfd7p_u9uTC"
      },
      "outputs": [],
      "source": [
        "color = [255, 255, 255]\n",
        "top, bottom, left, right = [150]*4"
      ]
    },
    {
      "cell_type": "code",
      "execution_count": null,
      "metadata": {
        "id": "-wtjZewi9uTC"
      },
      "outputs": [],
      "source": [
        "image_with_border = cv2.copyMakeBorder(no_borders, top, bottom, left, right, cv2.BORDER_CONSTANT, value=color)\n",
        "cv2.imwrite(\"temp/image_with_border.jpg\", image_with_border)\n",
        "display(\"temp/image_with_border.jpg\")"
      ]
    },
    {
      "cell_type": "code",
      "execution_count": null,
      "metadata": {
        "id": "n5iMjPEv9uTD"
      },
      "outputs": [],
      "source": []
    }
  ],
  "metadata": {
    "kernelspec": {
      "display_name": "Python 3",
      "language": "python",
      "name": "python3"
    },
    "language_info": {
      "codemirror_mode": {
        "name": "ipython",
        "version": 3
      },
      "file_extension": ".py",
      "mimetype": "text/x-python",
      "name": "python",
      "nbconvert_exporter": "python",
      "pygments_lexer": "ipython3",
      "version": "3.8.5"
    },
    "colab": {
      "provenance": []
    }
  },
  "nbformat": 4,
  "nbformat_minor": 0
}